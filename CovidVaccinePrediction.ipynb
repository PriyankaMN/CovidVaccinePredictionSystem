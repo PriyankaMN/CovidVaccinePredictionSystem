{
 "cells": [
  {
   "cell_type": "code",
   "execution_count": 29,
   "metadata": {
    "_cell_guid": "b1076dfc-b9ad-4769-8c92-a6c4dae69d19",
    "_uuid": "8f2839f25d086af736a60e9eeb907d3b93b6e0e5"
   },
   "outputs": [],
   "source": [
    "import numpy as np # linear algebra\n",
    "import pandas as pd # data processing, CSV file I/O (e.g. pd.read_csv)\n"
   ]
  },
  {
   "cell_type": "code",
   "execution_count": 30,
   "metadata": {},
   "outputs": [],
   "source": [
    "# Input data files are available in the read-only \"../input/\" directory\n",
    "# For example, running this (by clicking run or pressing Shift+Enter) will list all files under the input directory\n",
    "import os\n",
    "df=pd.read_csv(r\"country_vaccinations.csv\")\n"
   ]
  },
  {
   "cell_type": "code",
   "execution_count": 31,
   "metadata": {},
   "outputs": [],
   "source": [
    "df.fillna(0, inplace = True)\n",
    "df['iso_code'].fillna('GBR', inplace=True)\n",
    "df.drop(df.index[df['iso_code'] == 0], inplace = True)\n",
    "df.drop([\"source_name\",\"source_website\",\"people_fully_vaccinated\",\"daily_vaccinations_raw\",\"people_fully_vaccinated_per_hundred\",\"daily_vaccinations_per_million\",\"people_vaccinated_per_hundred\"],axis=1, inplace=True)"
   ]
  },
  {
   "cell_type": "code",
   "execution_count": 32,
   "metadata": {},
   "outputs": [
    {
     "data": {
      "text/html": [
       "<div>\n",
       "<style scoped>\n",
       "    .dataframe tbody tr th:only-of-type {\n",
       "        vertical-align: middle;\n",
       "    }\n",
       "\n",
       "    .dataframe tbody tr th {\n",
       "        vertical-align: top;\n",
       "    }\n",
       "\n",
       "    .dataframe thead th {\n",
       "        text-align: right;\n",
       "    }\n",
       "</style>\n",
       "<table border=\"1\" class=\"dataframe\">\n",
       "  <thead>\n",
       "    <tr style=\"text-align: right;\">\n",
       "      <th></th>\n",
       "      <th>country</th>\n",
       "      <th>date</th>\n",
       "      <th>daily_vaccinations</th>\n",
       "    </tr>\n",
       "  </thead>\n",
       "  <tbody>\n",
       "    <tr>\n",
       "      <th>0</th>\n",
       "      <td>Albania</td>\n",
       "      <td>2021-01-10</td>\n",
       "      <td>0.0</td>\n",
       "    </tr>\n",
       "    <tr>\n",
       "      <th>1</th>\n",
       "      <td>Albania</td>\n",
       "      <td>2021-01-11</td>\n",
       "      <td>64.0</td>\n",
       "    </tr>\n",
       "    <tr>\n",
       "      <th>2</th>\n",
       "      <td>Albania</td>\n",
       "      <td>2021-01-12</td>\n",
       "      <td>64.0</td>\n",
       "    </tr>\n",
       "    <tr>\n",
       "      <th>3</th>\n",
       "      <td>Albania</td>\n",
       "      <td>2021-01-13</td>\n",
       "      <td>63.0</td>\n",
       "    </tr>\n",
       "    <tr>\n",
       "      <th>4</th>\n",
       "      <td>Albania</td>\n",
       "      <td>2021-01-14</td>\n",
       "      <td>66.0</td>\n",
       "    </tr>\n",
       "    <tr>\n",
       "      <th>...</th>\n",
       "      <td>...</td>\n",
       "      <td>...</td>\n",
       "      <td>...</td>\n",
       "    </tr>\n",
       "    <tr>\n",
       "      <th>1586</th>\n",
       "      <td>India</td>\n",
       "      <td>2021-02-16</td>\n",
       "      <td>341096.0</td>\n",
       "    </tr>\n",
       "    <tr>\n",
       "      <th>1587</th>\n",
       "      <td>India</td>\n",
       "      <td>2021-02-17</td>\n",
       "      <td>343588.0</td>\n",
       "    </tr>\n",
       "    <tr>\n",
       "      <th>1588</th>\n",
       "      <td>India</td>\n",
       "      <td>2021-02-18</td>\n",
       "      <td>383285.0</td>\n",
       "    </tr>\n",
       "    <tr>\n",
       "      <th>1589</th>\n",
       "      <td>India</td>\n",
       "      <td>2021-02-19</td>\n",
       "      <td>392508.0</td>\n",
       "    </tr>\n",
       "    <tr>\n",
       "      <th>1590</th>\n",
       "      <td>India</td>\n",
       "      <td>2021-02-20</td>\n",
       "      <td>403045.0</td>\n",
       "    </tr>\n",
       "  </tbody>\n",
       "</table>\n",
       "<p>77 rows × 3 columns</p>\n",
       "</div>"
      ],
      "text/plain": [
       "      country        date  daily_vaccinations\n",
       "0     Albania  2021-01-10                 0.0\n",
       "1     Albania  2021-01-11                64.0\n",
       "2     Albania  2021-01-12                64.0\n",
       "3     Albania  2021-01-13                63.0\n",
       "4     Albania  2021-01-14                66.0\n",
       "...       ...         ...                 ...\n",
       "1586    India  2021-02-16            341096.0\n",
       "1587    India  2021-02-17            343588.0\n",
       "1588    India  2021-02-18            383285.0\n",
       "1589    India  2021-02-19            392508.0\n",
       "1590    India  2021-02-20            403045.0\n",
       "\n",
       "[77 rows x 3 columns]"
      ]
     },
     "execution_count": 32,
     "metadata": {},
     "output_type": "execute_result"
    }
   ],
   "source": [
    "df_India = df[(df['country']=='India') | (df['country']=='Wales')| (df['country']=='Albania')].copy()\n",
    "#df_India = df\n",
    "df_India.drop(['people_vaccinated'], axis = 1, inplace = True)\n",
    "df_India.drop(['total_vaccinations'], axis = 1, inplace = True)\n",
    "df_India.drop(['vaccines'], axis = 1, inplace = True)\n",
    "df_India.drop(['total_vaccinations_per_hundred'], axis = 1, inplace = True)\n",
    "df_India.drop(['iso_code'], axis = 1, inplace = True)\n",
    "#df_India.drop(['country'], axis = 1, inplace = True)\n",
    "df_India"
   ]
  },
  {
   "cell_type": "code",
   "execution_count": 33,
   "metadata": {},
   "outputs": [],
   "source": [
    "df_India.insert(0, 'New_ID', range(1, 1 + len(df_India)))\n",
    "df_India.drop(['date'], axis = 1, inplace = True)\n",
    "df_India[\"New_ID\"] = pd.to_numeric(df_India[\"New_ID\"], downcast=\"float\")\n",
    "X = df_India.iloc[:-1].values\n",
    "y = df_India.iloc[:-1,-1].values"
   ]
  },
  {
   "cell_type": "code",
   "execution_count": 34,
   "metadata": {},
   "outputs": [
    {
     "name": "stdout",
     "output_type": "stream",
     "text": [
      "[[1.0 'Albania' 0.0]\n",
      " [2.0 'Albania' 64.0]\n",
      " [3.0 'Albania' 64.0]\n",
      " [4.0 'Albania' 63.0]\n",
      " [5.0 'Albania' 66.0]\n",
      " [6.0 'Albania' 62.0]\n",
      " [7.0 'Albania' 62.0]\n",
      " [8.0 'Albania' 58.0]\n",
      " [9.0 'Albania' 55.0]\n",
      " [10.0 'Albania' 51.0]\n",
      " [11.0 'Albania' 47.0]\n",
      " [12.0 'Albania' 40.0]\n",
      " [13.0 'Albania' 34.0]\n",
      " [14.0 'Albania' 26.0]\n",
      " [15.0 'Albania' 21.0]\n",
      " [16.0 'Albania' 15.0]\n",
      " [17.0 'Albania' 9.0]\n",
      " [18.0 'Albania' 4.0]\n",
      " [19.0 'Albania' 0.0]\n",
      " [20.0 'Albania' 0.0]\n",
      " [21.0 'Albania' 0.0]\n",
      " [22.0 'Albania' 0.0]\n",
      " [23.0 'Albania' 0.0]\n",
      " [24.0 'Albania' 0.0]\n",
      " [25.0 'Albania' 12.0]\n",
      " [26.0 'Albania' 24.0]\n",
      " [27.0 'Albania' 35.0]\n",
      " [28.0 'Albania' 47.0]\n",
      " [29.0 'Albania' 59.0]\n",
      " [30.0 'Albania' 71.0]\n",
      " [31.0 'Albania' 82.0]\n",
      " [32.0 'Albania' 81.0]\n",
      " [33.0 'Albania' 79.0]\n",
      " [34.0 'Albania' 78.0]\n",
      " [35.0 'Albania' 76.0]\n",
      " [36.0 'Albania' 75.0]\n",
      " [37.0 'Albania' 73.0]\n",
      " [38.0 'Albania' 72.0]\n",
      " [39.0 'Albania' 72.0]\n",
      " [40.0 'Albania' 254.0]\n",
      " [41.0 'India' 0.0]\n",
      " [42.0 'India' 191181.0]\n",
      " [43.0 'India' 112150.0]\n",
      " [44.0 'India' 151350.0]\n",
      " [45.0 'India' 168709.0]\n",
      " [46.0 'India' 161297.0]\n",
      " [47.0 'India' 173922.0]\n",
      " [48.0 'India' 198656.0]\n",
      " [49.0 'India' 198717.0]\n",
      " [50.0 'India' 198743.0]\n",
      " [51.0 'India' 224251.0]\n",
      " [52.0 'India' 193521.0]\n",
      " [53.0 'India' 221356.0]\n",
      " [54.0 'India' 269217.0]\n",
      " [55.0 'India' 301348.0]\n",
      " [56.0 'India' 308876.0]\n",
      " [57.0 'India' 306191.0]\n",
      " [58.0 'India' 275192.0]\n",
      " [59.0 'India' 301348.0]\n",
      " [60.0 'India' 299082.0]\n",
      " [61.0 'India' 290199.0]\n",
      " [62.0 'India' 273832.0]\n",
      " [63.0 'India' 290141.0]\n",
      " [64.0 'India' 293360.0]\n",
      " [65.0 'India' 329836.0]\n",
      " [66.0 'India' 353235.0]\n",
      " [67.0 'India' 366795.0]\n",
      " [68.0 'India' 363652.0]\n",
      " [69.0 'India' 364400.0]\n",
      " [70.0 'India' 355505.0]\n",
      " [71.0 'India' 353276.0]\n",
      " [72.0 'India' 351688.0]\n",
      " [73.0 'India' 341096.0]\n",
      " [74.0 'India' 343588.0]\n",
      " [75.0 'India' 383285.0]\n",
      " [76.0 'India' 392508.0]]\n"
     ]
    }
   ],
   "source": [
    "print(X)"
   ]
  },
  {
   "cell_type": "code",
   "execution_count": 35,
   "metadata": {},
   "outputs": [
    {
     "data": {
      "text/html": [
       "<div>\n",
       "<style scoped>\n",
       "    .dataframe tbody tr th:only-of-type {\n",
       "        vertical-align: middle;\n",
       "    }\n",
       "\n",
       "    .dataframe tbody tr th {\n",
       "        vertical-align: top;\n",
       "    }\n",
       "\n",
       "    .dataframe thead th {\n",
       "        text-align: right;\n",
       "    }\n",
       "</style>\n",
       "<table border=\"1\" class=\"dataframe\">\n",
       "  <thead>\n",
       "    <tr style=\"text-align: right;\">\n",
       "      <th></th>\n",
       "      <th>New_ID</th>\n",
       "      <th>country</th>\n",
       "      <th>daily_vaccinations</th>\n",
       "    </tr>\n",
       "  </thead>\n",
       "  <tbody>\n",
       "    <tr>\n",
       "      <th>0</th>\n",
       "      <td>1.0</td>\n",
       "      <td>0</td>\n",
       "      <td>0.0</td>\n",
       "    </tr>\n",
       "    <tr>\n",
       "      <th>1</th>\n",
       "      <td>2.0</td>\n",
       "      <td>0</td>\n",
       "      <td>64.0</td>\n",
       "    </tr>\n",
       "    <tr>\n",
       "      <th>2</th>\n",
       "      <td>3.0</td>\n",
       "      <td>0</td>\n",
       "      <td>64.0</td>\n",
       "    </tr>\n",
       "    <tr>\n",
       "      <th>3</th>\n",
       "      <td>4.0</td>\n",
       "      <td>0</td>\n",
       "      <td>63.0</td>\n",
       "    </tr>\n",
       "    <tr>\n",
       "      <th>4</th>\n",
       "      <td>5.0</td>\n",
       "      <td>0</td>\n",
       "      <td>66.0</td>\n",
       "    </tr>\n",
       "    <tr>\n",
       "      <th>...</th>\n",
       "      <td>...</td>\n",
       "      <td>...</td>\n",
       "      <td>...</td>\n",
       "    </tr>\n",
       "    <tr>\n",
       "      <th>1586</th>\n",
       "      <td>73.0</td>\n",
       "      <td>1</td>\n",
       "      <td>341096.0</td>\n",
       "    </tr>\n",
       "    <tr>\n",
       "      <th>1587</th>\n",
       "      <td>74.0</td>\n",
       "      <td>1</td>\n",
       "      <td>343588.0</td>\n",
       "    </tr>\n",
       "    <tr>\n",
       "      <th>1588</th>\n",
       "      <td>75.0</td>\n",
       "      <td>1</td>\n",
       "      <td>383285.0</td>\n",
       "    </tr>\n",
       "    <tr>\n",
       "      <th>1589</th>\n",
       "      <td>76.0</td>\n",
       "      <td>1</td>\n",
       "      <td>392508.0</td>\n",
       "    </tr>\n",
       "    <tr>\n",
       "      <th>1590</th>\n",
       "      <td>77.0</td>\n",
       "      <td>1</td>\n",
       "      <td>403045.0</td>\n",
       "    </tr>\n",
       "  </tbody>\n",
       "</table>\n",
       "<p>77 rows × 3 columns</p>\n",
       "</div>"
      ],
      "text/plain": [
       "      New_ID  country  daily_vaccinations\n",
       "0        1.0        0                 0.0\n",
       "1        2.0        0                64.0\n",
       "2        3.0        0                64.0\n",
       "3        4.0        0                63.0\n",
       "4        5.0        0                66.0\n",
       "...      ...      ...                 ...\n",
       "1586    73.0        1            341096.0\n",
       "1587    74.0        1            343588.0\n",
       "1588    75.0        1            383285.0\n",
       "1589    76.0        1            392508.0\n",
       "1590    77.0        1            403045.0\n",
       "\n",
       "[77 rows x 3 columns]"
      ]
     },
     "execution_count": 35,
     "metadata": {},
     "output_type": "execute_result"
    }
   ],
   "source": [
    "#df_India['iso_code'] = df_India['iso_code'].replace(['IND'],1.0)\n",
    "#df_India['iso_code'] = df_India['iso_code'].replace(['USA'],2.0)\n",
    "from sklearn.preprocessing import LabelEncoder\n",
    "number = LabelEncoder()\n",
    "df_India['country'] = number.fit_transform(df_India['country'].astype('str'))\n",
    "df_India"
   ]
  },
  {
   "cell_type": "code",
   "execution_count": 36,
   "metadata": {},
   "outputs": [
    {
     "data": {
      "text/html": [
       "<div>\n",
       "<style scoped>\n",
       "    .dataframe tbody tr th:only-of-type {\n",
       "        vertical-align: middle;\n",
       "    }\n",
       "\n",
       "    .dataframe tbody tr th {\n",
       "        vertical-align: top;\n",
       "    }\n",
       "\n",
       "    .dataframe thead th {\n",
       "        text-align: right;\n",
       "    }\n",
       "</style>\n",
       "<table border=\"1\" class=\"dataframe\">\n",
       "  <thead>\n",
       "    <tr style=\"text-align: right;\">\n",
       "      <th></th>\n",
       "      <th>New_ID</th>\n",
       "      <th>country</th>\n",
       "      <th>daily_vaccinations</th>\n",
       "    </tr>\n",
       "  </thead>\n",
       "  <tbody>\n",
       "    <tr>\n",
       "      <th>0</th>\n",
       "      <td>1.0</td>\n",
       "      <td>0.0</td>\n",
       "      <td>0.0</td>\n",
       "    </tr>\n",
       "    <tr>\n",
       "      <th>1</th>\n",
       "      <td>2.0</td>\n",
       "      <td>0.0</td>\n",
       "      <td>64.0</td>\n",
       "    </tr>\n",
       "    <tr>\n",
       "      <th>2</th>\n",
       "      <td>3.0</td>\n",
       "      <td>0.0</td>\n",
       "      <td>64.0</td>\n",
       "    </tr>\n",
       "    <tr>\n",
       "      <th>3</th>\n",
       "      <td>4.0</td>\n",
       "      <td>0.0</td>\n",
       "      <td>63.0</td>\n",
       "    </tr>\n",
       "    <tr>\n",
       "      <th>4</th>\n",
       "      <td>5.0</td>\n",
       "      <td>0.0</td>\n",
       "      <td>66.0</td>\n",
       "    </tr>\n",
       "    <tr>\n",
       "      <th>...</th>\n",
       "      <td>...</td>\n",
       "      <td>...</td>\n",
       "      <td>...</td>\n",
       "    </tr>\n",
       "    <tr>\n",
       "      <th>1586</th>\n",
       "      <td>73.0</td>\n",
       "      <td>1.0</td>\n",
       "      <td>341096.0</td>\n",
       "    </tr>\n",
       "    <tr>\n",
       "      <th>1587</th>\n",
       "      <td>74.0</td>\n",
       "      <td>1.0</td>\n",
       "      <td>343588.0</td>\n",
       "    </tr>\n",
       "    <tr>\n",
       "      <th>1588</th>\n",
       "      <td>75.0</td>\n",
       "      <td>1.0</td>\n",
       "      <td>383285.0</td>\n",
       "    </tr>\n",
       "    <tr>\n",
       "      <th>1589</th>\n",
       "      <td>76.0</td>\n",
       "      <td>1.0</td>\n",
       "      <td>392508.0</td>\n",
       "    </tr>\n",
       "    <tr>\n",
       "      <th>1590</th>\n",
       "      <td>77.0</td>\n",
       "      <td>1.0</td>\n",
       "      <td>403045.0</td>\n",
       "    </tr>\n",
       "  </tbody>\n",
       "</table>\n",
       "<p>77 rows × 3 columns</p>\n",
       "</div>"
      ],
      "text/plain": [
       "      New_ID  country  daily_vaccinations\n",
       "0        1.0      0.0                 0.0\n",
       "1        2.0      0.0                64.0\n",
       "2        3.0      0.0                64.0\n",
       "3        4.0      0.0                63.0\n",
       "4        5.0      0.0                66.0\n",
       "...      ...      ...                 ...\n",
       "1586    73.0      1.0            341096.0\n",
       "1587    74.0      1.0            343588.0\n",
       "1588    75.0      1.0            383285.0\n",
       "1589    76.0      1.0            392508.0\n",
       "1590    77.0      1.0            403045.0\n",
       "\n",
       "[77 rows x 3 columns]"
      ]
     },
     "execution_count": 36,
     "metadata": {},
     "output_type": "execute_result"
    }
   ],
   "source": [
    "df_India['country'] = pd.to_numeric(df_India['country'], downcast=\"float\")\n",
    "df_India"
   ]
  },
  {
   "cell_type": "code",
   "execution_count": 37,
   "metadata": {},
   "outputs": [
    {
     "name": "stdout",
     "output_type": "stream",
     "text": [
      "<class 'pandas.core.frame.DataFrame'>\n",
      "Int64Index: 77 entries, 0 to 1590\n",
      "Data columns (total 3 columns):\n",
      " #   Column              Non-Null Count  Dtype  \n",
      "---  ------              --------------  -----  \n",
      " 0   New_ID              77 non-null     float32\n",
      " 1   country             77 non-null     float32\n",
      " 2   daily_vaccinations  77 non-null     float64\n",
      "dtypes: float32(2), float64(1)\n",
      "memory usage: 1.8 KB\n"
     ]
    }
   ],
   "source": [
    "df_India.info()"
   ]
  },
  {
   "cell_type": "code",
   "execution_count": 38,
   "metadata": {},
   "outputs": [],
   "source": [
    "from sklearn.compose import ColumnTransformer\n",
    "from sklearn.preprocessing import OneHotEncoder\n",
    "ct = ColumnTransformer(transformers=[('encoder', OneHotEncoder(), [1])], remainder='passthrough')\n",
    "X = np.array(ct.fit_transform(X))\n",
    "#df_India=np.array(ct.fit_transform(df_India))"
   ]
  },
  {
   "cell_type": "code",
   "execution_count": 39,
   "metadata": {},
   "outputs": [
    {
     "name": "stdout",
     "output_type": "stream",
     "text": [
      "      New_ID  country  daily_vaccinations\n",
      "0        1.0      0.0                 0.0\n",
      "1        2.0      0.0                64.0\n",
      "2        3.0      0.0                64.0\n",
      "3        4.0      0.0                63.0\n",
      "4        5.0      0.0                66.0\n",
      "...      ...      ...                 ...\n",
      "1586    73.0      1.0            341096.0\n",
      "1587    74.0      1.0            343588.0\n",
      "1588    75.0      1.0            383285.0\n",
      "1589    76.0      1.0            392508.0\n",
      "1590    77.0      1.0            403045.0\n",
      "\n",
      "[77 rows x 3 columns]\n"
     ]
    }
   ],
   "source": [
    "print(df_India)"
   ]
  },
  {
   "cell_type": "code",
   "execution_count": 40,
   "metadata": {},
   "outputs": [
    {
     "name": "stdout",
     "output_type": "stream",
     "text": [
      "[[1.0 0.0 1.0 0.0]\n",
      " [1.0 0.0 2.0 64.0]\n",
      " [1.0 0.0 3.0 64.0]\n",
      " [1.0 0.0 4.0 63.0]\n",
      " [1.0 0.0 5.0 66.0]\n",
      " [1.0 0.0 6.0 62.0]\n",
      " [1.0 0.0 7.0 62.0]\n",
      " [1.0 0.0 8.0 58.0]\n",
      " [1.0 0.0 9.0 55.0]\n",
      " [1.0 0.0 10.0 51.0]\n",
      " [1.0 0.0 11.0 47.0]\n",
      " [1.0 0.0 12.0 40.0]\n",
      " [1.0 0.0 13.0 34.0]\n",
      " [1.0 0.0 14.0 26.0]\n",
      " [1.0 0.0 15.0 21.0]\n",
      " [1.0 0.0 16.0 15.0]\n",
      " [1.0 0.0 17.0 9.0]\n",
      " [1.0 0.0 18.0 4.0]\n",
      " [1.0 0.0 19.0 0.0]\n",
      " [1.0 0.0 20.0 0.0]\n",
      " [1.0 0.0 21.0 0.0]\n",
      " [1.0 0.0 22.0 0.0]\n",
      " [1.0 0.0 23.0 0.0]\n",
      " [1.0 0.0 24.0 0.0]\n",
      " [1.0 0.0 25.0 12.0]\n",
      " [1.0 0.0 26.0 24.0]\n",
      " [1.0 0.0 27.0 35.0]\n",
      " [1.0 0.0 28.0 47.0]\n",
      " [1.0 0.0 29.0 59.0]\n",
      " [1.0 0.0 30.0 71.0]\n",
      " [1.0 0.0 31.0 82.0]\n",
      " [1.0 0.0 32.0 81.0]\n",
      " [1.0 0.0 33.0 79.0]\n",
      " [1.0 0.0 34.0 78.0]\n",
      " [1.0 0.0 35.0 76.0]\n",
      " [1.0 0.0 36.0 75.0]\n",
      " [1.0 0.0 37.0 73.0]\n",
      " [1.0 0.0 38.0 72.0]\n",
      " [1.0 0.0 39.0 72.0]\n",
      " [1.0 0.0 40.0 254.0]\n",
      " [0.0 1.0 41.0 0.0]\n",
      " [0.0 1.0 42.0 191181.0]\n",
      " [0.0 1.0 43.0 112150.0]\n",
      " [0.0 1.0 44.0 151350.0]\n",
      " [0.0 1.0 45.0 168709.0]\n",
      " [0.0 1.0 46.0 161297.0]\n",
      " [0.0 1.0 47.0 173922.0]\n",
      " [0.0 1.0 48.0 198656.0]\n",
      " [0.0 1.0 49.0 198717.0]\n",
      " [0.0 1.0 50.0 198743.0]\n",
      " [0.0 1.0 51.0 224251.0]\n",
      " [0.0 1.0 52.0 193521.0]\n",
      " [0.0 1.0 53.0 221356.0]\n",
      " [0.0 1.0 54.0 269217.0]\n",
      " [0.0 1.0 55.0 301348.0]\n",
      " [0.0 1.0 56.0 308876.0]\n",
      " [0.0 1.0 57.0 306191.0]\n",
      " [0.0 1.0 58.0 275192.0]\n",
      " [0.0 1.0 59.0 301348.0]\n",
      " [0.0 1.0 60.0 299082.0]\n",
      " [0.0 1.0 61.0 290199.0]\n",
      " [0.0 1.0 62.0 273832.0]\n",
      " [0.0 1.0 63.0 290141.0]\n",
      " [0.0 1.0 64.0 293360.0]\n",
      " [0.0 1.0 65.0 329836.0]\n",
      " [0.0 1.0 66.0 353235.0]\n",
      " [0.0 1.0 67.0 366795.0]\n",
      " [0.0 1.0 68.0 363652.0]\n",
      " [0.0 1.0 69.0 364400.0]\n",
      " [0.0 1.0 70.0 355505.0]\n",
      " [0.0 1.0 71.0 353276.0]\n",
      " [0.0 1.0 72.0 351688.0]\n",
      " [0.0 1.0 73.0 341096.0]\n",
      " [0.0 1.0 74.0 343588.0]\n",
      " [0.0 1.0 75.0 383285.0]\n",
      " [0.0 1.0 76.0 392508.0]]\n"
     ]
    }
   ],
   "source": [
    "print(X)"
   ]
  },
  {
   "cell_type": "code",
   "execution_count": 41,
   "metadata": {},
   "outputs": [],
   "source": [
    "from sklearn.model_selection import train_test_split\n",
    "X_train, X_test, y_train, y_test = train_test_split(X, y, test_size = 0.2, random_state = 0)"
   ]
  },
  {
   "cell_type": "code",
   "execution_count": 42,
   "metadata": {},
   "outputs": [
    {
     "data": {
      "text/plain": [
       "LinearRegression()"
      ]
     },
     "execution_count": 42,
     "metadata": {},
     "output_type": "execute_result"
    }
   ],
   "source": [
    "from sklearn.linear_model import LinearRegression\n",
    "regressor = LinearRegression()\n",
    "regressor.fit(X_train, y_train)"
   ]
  },
  {
   "cell_type": "markdown",
   "metadata": {},
   "source": [
    "## 1. INDIA"
   ]
  },
  {
   "cell_type": "code",
   "execution_count": 43,
   "metadata": {},
   "outputs": [],
   "source": [
    "y_pred = regressor.predict(X_test)\n",
    "#np.set_printoptions(precision=2)\n",
    "#print(np.concatenate((y_pred.reshape(len(y_pred),1), y_test.reshape(len(y_test),1)),1))"
   ]
  },
  {
   "cell_type": "code",
   "execution_count": 44,
   "metadata": {},
   "outputs": [
    {
     "name": "stdout",
     "output_type": "stream",
     "text": [
      "[2.21356e+05 2.75192e+05 0.00000e+00 3.92508e+05 5.90000e+01 3.50000e+01\n",
      " 3.51688e+05 3.01348e+05 7.60000e+01 5.80000e+01 1.51350e+05 2.99082e+05\n",
      " 1.91181e+05 0.00000e+00 7.80000e+01 3.64400e+05]\n",
      "[ 2.21356000e+05  2.75192000e+05  4.14675828e-11  3.92508000e+05\n",
      "  5.90000000e+01  3.50000000e+01  3.51688000e+05  3.01348000e+05\n",
      "  7.60000000e+01  5.80000000e+01  1.51350000e+05  2.99082000e+05\n",
      "  1.91181000e+05 -2.29215132e-10  7.80000000e+01  3.64400000e+05]\n"
     ]
    }
   ],
   "source": [
    "print(y_test)\n",
    "print(y_pred)"
   ]
  },
  {
   "cell_type": "code",
   "execution_count": 45,
   "metadata": {
    "scrolled": false
   },
   "outputs": [
    {
     "data": {
      "image/png": "[encoded data removed]",
      "text/plain": [
       "<Figure size 432x288 with 1 Axes>"
      ]
     },
     "metadata": {
      "needs_background": "light"
     },
     "output_type": "display_data"
    }
   ],
   "source": [
    "# Visualize the Data for Multiple Linear Regression\n",
    "import matplotlib.pyplot as plt\n",
    "import statsmodels.formula.api as smf\n",
    "fig = plt.figure()\n",
    "ax = fig.add_subplot(111, projection='3d')\n",
    "ax.scatter(df_India['New_ID'],df_India['country'],df_India['daily_vaccinations'],c='red', marker='o', alpha=0.5)\n",
    "#ax.plot_surface(x_surf,y_surf,fittedY.reshape(x_surf.shape), color='b', alpha=0.3)\n",
    "ax.set_xlabel('New_ID')\n",
    "ax.set_ylabel('country')\n",
    "ax.set_zlabel('daily_vaccinations')\n",
    "plt.show()"
   ]
  },
  {
   "cell_type": "code",
   "execution_count": 46,
   "metadata": {
    "scrolled": true
   },
   "outputs": [
    {
     "name": "stdout",
     "output_type": "stream",
     "text": [
      "100.0\n"
     ]
    }
   ],
   "source": [
    "model = LinearRegression()\n",
    "model.fit(X_train,y_train)\n",
    "accuracy = regressor.score(X_test,y_test)\n",
    "print(accuracy*100)\n",
    "y_pred = regressor.predict(X_test)"
   ]
  },
  {
   "cell_type": "code",
   "execution_count": 47,
   "metadata": {},
   "outputs": [
    {
     "name": "stdout",
     "output_type": "stream",
     "text": [
      "Coefficients: \n",
      " [ 1.29402891e-10 -1.29403164e-10 -6.59814426e-13  1.00000000e+00]\n",
      "Mean squared error: 0.00\n",
      "Variance score: 1.00\n"
     ]
    }
   ],
   "source": [
    "# Predicting the Test set results\n",
    "y_pred = regressor.predict(X_test)\n",
    "print('Coefficients: \\n', regressor.coef_)\n",
    "# The mean squared error\n",
    "print(\"Mean squared error: %.2f\" % np.mean((regressor.predict(X_test) - y_test) ** 2))\n",
    "# Explained variance score: 1 is perfect prediction\n",
    "print('Variance score: %.2f' % regressor.score(X_test, y_test))"
   ]
  },
  {
   "cell_type": "code",
   "execution_count": 48,
   "metadata": {},
   "outputs": [
    {
     "name": "stdout",
     "output_type": "stream",
     "text": [
      "Root Mean Square Error:\n",
      "\n",
      "8.014903341218422e-11\n",
      "r2 score for a model which predicts mean value always is 1.0\n"
     ]
    }
   ],
   "source": [
    "import math\n",
    "from sklearn.metrics import r2_score\n",
    "\n",
    "MSE = np.square(np.subtract(y_test,y_pred)).mean() \n",
    " \n",
    "RMSE = math.sqrt(MSE)\n",
    "print(\"Root Mean Square Error:\\n\")\n",
    "print(RMSE)\n",
    "\n",
    "r2 = r2_score(y_test,y_pred)\n",
    "print('r2 score for a model which predicts mean value always is', r2)"
   ]
  },
  {
   "cell_type": "code",
   "execution_count": 49,
   "metadata": {},
   "outputs": [
    {
     "name": "stdout",
     "output_type": "stream",
     "text": [
      "Root Mean Square Error:\n",
      "\n",
      "8.014903341218422e-11\n",
      "r2 score for a model which predicts mean value always is 1.0\n"
     ]
    }
   ],
   "source": [
    "import math\n",
    "from sklearn.metrics import r2_score\n",
    "\n",
    "MSE = np.square(np.subtract(y_test,y_pred)).mean() \n",
    " \n",
    "RMSE = math.sqrt(MSE)\n",
    "print(\"Root Mean Square Error:\\n\")\n",
    "print(RMSE)\n",
    "\n",
    "r2 = r2_score(y_test,y_pred)\n",
    "print('r2 score for a model which predicts mean value always is', r2)"
   ]
  }
 ],
 "metadata": {
  "kernelspec": {
   "display_name": "Python 3",
   "language": "python",
   "name": "python3"
  },
  "language_info": {
   "codemirror_mode": {
    "name": "ipython",
    "version": 3
   },
   "file_extension": ".py",
   "mimetype": "text/x-python",
   "name": "python",
   "nbconvert_exporter": "python",
   "pygments_lexer": "ipython3",
   "version": "3.8.8"
  },
  "widgets": {
   "application/vnd.jupyter.widget-state+json": {
    "state": {},
    "version_major": 2,
    "version_minor": 0
   }
  }
 },
 "nbformat": 4,
 "nbformat_minor": 4
}
